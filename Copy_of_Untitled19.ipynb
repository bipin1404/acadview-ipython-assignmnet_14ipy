{
  "nbformat": 4,
  "nbformat_minor": 0,
  "metadata": {
    "colab": {
      "name": "Copy of Untitled19.ipynb",
      "version": "0.3.2",
      "provenance": [],
      "private_outputs": true,
      "collapsed_sections": [],
      "include_colab_link": true
    },
    "kernelspec": {
      "name": "python3",
      "display_name": "Python 3"
    }
  },
  "cells": [
    {
      "cell_type": "markdown",
      "metadata": {
        "id": "view-in-github",
        "colab_type": "text"
      },
      "source": [
        "[View in Colaboratory](https://colab.research.google.com/github/bipin1404/acadview-ipython-assignmnet_14ipy/blob/master/Copy_of_Untitled19.ipynb)"
      ]
    },
    {
      "metadata": {
        "id": "CpO9jGNhly2C",
        "colab_type": "code",
        "colab": {}
      },
      "cell_type": "code",
      "source": [
        "import numpy as np\n",
        "import pandas as pd\n",
        "import matplotlib.pyplot as pl\n",
        "import seaborn as sns"
      ],
      "execution_count": 0,
      "outputs": []
    },
    {
      "metadata": {
        "id": "VqMd4kH2mCOd",
        "colab_type": "code",
        "colab": {}
      },
      "cell_type": "code",
      "source": [
        "from sklearn.datasets import fetch_mldata\n",
        "mnist = fetch_mldata(\"iris\")"
      ],
      "execution_count": 0,
      "outputs": []
    },
    {
      "metadata": {
        "id": "1a5-fi3k7EuI",
        "colab_type": "code",
        "colab": {}
      },
      "cell_type": "code",
      "source": [
        "x=mnist.data\n",
        "y=mnist.target\n",
        "print(x.shape)\n",
        "print(y.shape)"
      ],
      "execution_count": 0,
      "outputs": []
    },
    {
      "metadata": {
        "id": "Hud0zhE3mXgs",
        "colab_type": "code",
        "colab": {}
      },
      "cell_type": "code",
      "source": [
        "from sklearn.cross_validation import train_test_split\n",
        "x_train , x_test , y_train , y_test = train_test_split(x , y, test_size = 0.40,random_state =10)"
      ],
      "execution_count": 0,
      "outputs": []
    },
    {
      "metadata": {
        "id": "mEkXMpiOstlF",
        "colab_type": "text"
      },
      "cell_type": "markdown",
      "source": [
        "# **using svm with kernel=Linear**"
      ]
    },
    {
      "metadata": {
        "id": "MTWwqxG-mvJ6",
        "colab_type": "code",
        "colab": {}
      },
      "cell_type": "code",
      "source": [
        "from sklearn.svm import SVC\n",
        "sv=SVC(kernel='linear',degree=1)\n"
      ],
      "execution_count": 0,
      "outputs": []
    },
    {
      "metadata": {
        "id": "eGFKsgEG7VqI",
        "colab_type": "code",
        "colab": {}
      },
      "cell_type": "code",
      "source": [
        "sv.fit(x_train,y_train)"
      ],
      "execution_count": 0,
      "outputs": []
    },
    {
      "metadata": {
        "id": "ZU1kDGnWq6Of",
        "colab_type": "code",
        "colab": {}
      },
      "cell_type": "code",
      "source": [
        "predict=sv.predict(x_test)"
      ],
      "execution_count": 0,
      "outputs": []
    },
    {
      "metadata": {
        "id": "SYTJFUa0q6uM",
        "colab_type": "code",
        "colab": {}
      },
      "cell_type": "code",
      "source": [
        "from sklearn.metrics import confusion_matrix,classification_report"
      ],
      "execution_count": 0,
      "outputs": []
    },
    {
      "metadata": {
        "id": "Z0bFK76lvMa9",
        "colab_type": "text"
      },
      "cell_type": "markdown",
      "source": [
        "CONFUSIAN MATRIX"
      ]
    },
    {
      "metadata": {
        "id": "05nV0c4TrYd6",
        "colab_type": "code",
        "colab": {}
      },
      "cell_type": "code",
      "source": [
        "print(\"confussion metrix\")\n",
        "matrix=confusion_matrix(y_test,predict)\n",
        "print(matrix)"
      ],
      "execution_count": 0,
      "outputs": []
    },
    {
      "metadata": {
        "id": "u2pJ0jPXvSzn",
        "colab_type": "text"
      },
      "cell_type": "markdown",
      "source": [
        "CLASSIFICATION REPORT"
      ]
    },
    {
      "metadata": {
        "id": "WFCDOn49royp",
        "colab_type": "code",
        "colab": {}
      },
      "cell_type": "code",
      "source": [
        "print(\"classification report\")\n",
        "report=classification_report(y_test,predict)\n",
        "print(report)\n"
      ],
      "execution_count": 0,
      "outputs": []
    },
    {
      "metadata": {
        "id": "1p-gsUWDtEpH",
        "colab_type": "text"
      },
      "cell_type": "markdown",
      "source": [
        "# **using svm with kernel=polynomial**"
      ]
    },
    {
      "metadata": {
        "id": "fV3kVeezr6Yf",
        "colab_type": "code",
        "colab": {}
      },
      "cell_type": "code",
      "source": [
        "from sklearn.svm import SVC\n",
        "sv1=SVC(kernel='poly',degree=1)\n",
        "sv1.fit(x_train,y_train)"
      ],
      "execution_count": 0,
      "outputs": []
    },
    {
      "metadata": {
        "id": "C_y3XwRltR_y",
        "colab_type": "code",
        "colab": {}
      },
      "cell_type": "code",
      "source": [
        "predict1=sv1.predict(x_test)"
      ],
      "execution_count": 0,
      "outputs": []
    },
    {
      "metadata": {
        "id": "QuoNKpzgsKCr",
        "colab_type": "code",
        "colab": {}
      },
      "cell_type": "code",
      "source": [
        "from sklearn.metrics import confusion_matrix,classification_report"
      ],
      "execution_count": 0,
      "outputs": []
    },
    {
      "metadata": {
        "id": "_XMUu4nwwl1L",
        "colab_type": "text"
      },
      "cell_type": "markdown",
      "source": [
        "CONFUSIAN MATRIX"
      ]
    },
    {
      "metadata": {
        "id": "0kvuqG0QsKWX",
        "colab_type": "code",
        "colab": {}
      },
      "cell_type": "code",
      "source": [
        "print(\"confussion metrix\")\n",
        "matrix1=confusion_matrix(y_test,predict1)\n",
        "print(matrix1)"
      ],
      "execution_count": 0,
      "outputs": []
    },
    {
      "metadata": {
        "id": "JOE2enB6wpPD",
        "colab_type": "text"
      },
      "cell_type": "markdown",
      "source": [
        "CLASSIFICATION REPORT"
      ]
    },
    {
      "metadata": {
        "id": "j0rN_i9usR4n",
        "colab_type": "code",
        "colab": {}
      },
      "cell_type": "code",
      "source": [
        "print(\"classification report\")\n",
        "report1=classification_report(y_test,predict1)\n",
        "print(report1)"
      ],
      "execution_count": 0,
      "outputs": []
    },
    {
      "metadata": {
        "id": "i8taxWEFtr7A",
        "colab_type": "text"
      },
      "cell_type": "markdown",
      "source": [
        "# **using svm with kernel=Gaussian**"
      ]
    },
    {
      "metadata": {
        "id": "yCAzKgPmslp0",
        "colab_type": "code",
        "colab": {}
      },
      "cell_type": "code",
      "source": [
        "from sklearn.svm import SVC\n",
        "sv2=SVC(kernel='rbf',degree=1)\n",
        "sv2.fit(x_train,y_train)"
      ],
      "execution_count": 0,
      "outputs": []
    },
    {
      "metadata": {
        "id": "utbcU8T2t6iZ",
        "colab_type": "code",
        "colab": {}
      },
      "cell_type": "code",
      "source": [
        "predict2=sv2.predict(x_test)"
      ],
      "execution_count": 0,
      "outputs": []
    },
    {
      "metadata": {
        "id": "rBoz1ngTuUoL",
        "colab_type": "code",
        "colab": {}
      },
      "cell_type": "code",
      "source": [
        "from sklearn.metrics import confusion_matrix,classification_report"
      ],
      "execution_count": 0,
      "outputs": []
    },
    {
      "metadata": {
        "id": "65_Sy2e-wt1G",
        "colab_type": "text"
      },
      "cell_type": "markdown",
      "source": [
        "CONFUSIAN MATRIX"
      ]
    },
    {
      "metadata": {
        "id": "qDSbj-4MuaG1",
        "colab_type": "code",
        "colab": {}
      },
      "cell_type": "code",
      "source": [
        "print(\"confussion metrix\")\n",
        "matrix2=confusion_matrix(y_test,predict2)\n",
        "print(matrix)"
      ],
      "execution_count": 0,
      "outputs": []
    },
    {
      "metadata": {
        "id": "udGKurVlwwsr",
        "colab_type": "text"
      },
      "cell_type": "markdown",
      "source": [
        "CLASSIFICATION REPORT"
      ]
    },
    {
      "metadata": {
        "id": "LL9G41Icuajd",
        "colab_type": "code",
        "colab": {}
      },
      "cell_type": "code",
      "source": [
        "print(\"classification report\")\n",
        "report2=classification_report(y_test,predict2)\n",
        "print(report2)"
      ],
      "execution_count": 0,
      "outputs": []
    },
    {
      "metadata": {
        "id": "kAcXL8fFumgh",
        "colab_type": "text"
      },
      "cell_type": "markdown",
      "source": [
        "# **using svm with kernel=sigmoid**"
      ]
    },
    {
      "metadata": {
        "id": "dCALP3scutwP",
        "colab_type": "code",
        "colab": {}
      },
      "cell_type": "code",
      "source": [
        "from sklearn.svm import SVC\n",
        "sv3=SVC(kernel='sigmoid',degree=1)\n",
        "sv3.fit(x_train,y_train)"
      ],
      "execution_count": 0,
      "outputs": []
    },
    {
      "metadata": {
        "id": "UmfX7qwZu4wa",
        "colab_type": "code",
        "colab": {}
      },
      "cell_type": "code",
      "source": [
        "predict3=sv3.predict(x_test)"
      ],
      "execution_count": 0,
      "outputs": []
    },
    {
      "metadata": {
        "id": "bvZG8QxGvAU3",
        "colab_type": "code",
        "colab": {}
      },
      "cell_type": "code",
      "source": [
        "from sklearn.metrics import confusion_matrix,classification_report"
      ],
      "execution_count": 0,
      "outputs": []
    },
    {
      "metadata": {
        "id": "mvuClGr7w0oz",
        "colab_type": "text"
      },
      "cell_type": "markdown",
      "source": [
        "CONFUSIAN MATRIX"
      ]
    },
    {
      "metadata": {
        "id": "Sog6JnL9vC_I",
        "colab_type": "code",
        "colab": {}
      },
      "cell_type": "code",
      "source": [
        "print(\"confussion metrix\")\n",
        "matrix3=confusion_matrix(y_test,predict3)\n",
        "matrix3"
      ],
      "execution_count": 0,
      "outputs": []
    },
    {
      "metadata": {
        "id": "CTMWOdVQw4kg",
        "colab_type": "text"
      },
      "cell_type": "markdown",
      "source": [
        "CLASSIFICATION REPORT"
      ]
    },
    {
      "metadata": {
        "id": "HgFGkRIpvHZ8",
        "colab_type": "code",
        "colab": {}
      },
      "cell_type": "code",
      "source": [
        "print(\"classification report\")\n",
        "report3=classification_report(y_test,predict3)\n",
        "print(report3)"
      ],
      "execution_count": 0,
      "outputs": []
    },
    {
      "metadata": {
        "id": "OezrF_IF67-S",
        "colab_type": "text"
      },
      "cell_type": "markdown",
      "source": [
        "# **differ**"
      ]
    }
  ]
}